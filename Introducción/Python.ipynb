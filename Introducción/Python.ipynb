{
 "cells": [
  {
   "cell_type": "markdown",
   "metadata": {},
   "source": [
    "## Introducción a Python"
   ]
  },
  {
   "cell_type": "code",
   "execution_count": 1,
   "metadata": {},
   "outputs": [
    {
     "name": "stdout",
     "output_type": "stream",
     "text": [
      "1\n"
     ]
    }
   ],
   "source": [
    "# Definir variables\n",
    "x = 1\n",
    "\n",
    "print(x)"
   ]
  },
  {
   "cell_type": "code",
   "execution_count": 2,
   "metadata": {},
   "outputs": [
    {
     "name": "stdout",
     "output_type": "stream",
     "text": [
      "suma\n",
      "3\n",
      "resta\n",
      "-1\n",
      "multiplicación\n",
      "6\n",
      "división\n",
      "4.0\n"
     ]
    }
   ],
   "source": [
    "# operaciones matemáticas\n",
    "print(\"suma\")\n",
    "print(1 + 2)\n",
    "print(\"resta\")\n",
    "print(1 - 2)\n",
    "print(\"multiplicación\")\n",
    "print(3 * 2)\n",
    "print(\"división\")\n",
    "print(8 / 2)\n"
   ]
  },
  {
   "cell_type": "code",
   "execution_count": 4,
   "metadata": {},
   "outputs": [
    {
     "name": "stdout",
     "output_type": "stream",
     "text": [
      "suma\n",
      "4\n",
      "resta\n",
      "-2\n",
      "multiplicación\n",
      "3\n",
      "división\n",
      "3.0\n"
     ]
    }
   ],
   "source": [
    "# operaciones matemáticas con variables\n",
    "# definimos las variables\n",
    "x = 1\n",
    "y = 3\n",
    "\n",
    "# operamos\n",
    "print(\"suma\")\n",
    "print(x + y)\n",
    "print(\"resta\")\n",
    "print(x - y)\n",
    "print(\"multiplicación\")\n",
    "print(x * y)\n",
    "print(\"división\")\n",
    "print(y / x)"
   ]
  },
  {
   "cell_type": "code",
   "execution_count": 5,
   "metadata": {},
   "outputs": [
    {
     "name": "stdout",
     "output_type": "stream",
     "text": [
      "x es menor que 5\n"
     ]
    }
   ],
   "source": [
    "# condicionales\n",
    "x = 3\n",
    "\n",
    "if x < 5:\n",
    "    # imprimimos que x es menor que 5 si x es menor que 5\n",
    "    print(\"x es menor que 5\")"
   ]
  },
  {
   "cell_type": "code",
   "execution_count": 6,
   "metadata": {},
   "outputs": [
    {
     "name": "stdout",
     "output_type": "stream",
     "text": [
      "El valor de x es 1\n",
      "El valor de x es 2\n",
      "El valor de x es 3\n",
      "El valor de x es 4\n",
      "El valor de x es 5\n",
      "El valor de x es 6\n",
      "El valor de x es 7\n",
      "El valor de x es 8\n",
      "El valor de x es 9\n",
      "El valor de x es 10\n"
     ]
    }
   ],
   "source": [
    "# Bucles\n",
    "ciclos = 10\n",
    "x = 0\n",
    "\n",
    "# hacer 10 repeticiones\n",
    "for i in range(ciclos):\n",
    "    # sumar 1 a x en cada ciclo\n",
    "    x = x + 1\n",
    "\n",
    "    # imprimir el valor de x\n",
    "    print(f\"El valor de x es {x}\")"
   ]
  },
  {
   "cell_type": "markdown",
   "metadata": {},
   "source": [
    "## Funciones en Python"
   ]
  },
  {
   "cell_type": "code",
   "execution_count": 7,
   "metadata": {},
   "outputs": [
    {
     "data": {
      "text/plain": [
       "32"
      ]
     },
     "execution_count": 7,
     "metadata": {},
     "output_type": "execute_result"
    }
   ],
   "source": [
    "# Definimos una función (power, elevar un número a cualquier exponente)\n",
    "def pwr(base, exponente):\n",
    "    return base**exponente\n",
    "\n",
    "# Probamos la función\n",
    "pwr(2, 5)"
   ]
  },
  {
   "cell_type": "code",
   "execution_count": 8,
   "metadata": {},
   "outputs": [
    {
     "data": {
      "text/plain": [
       "32"
      ]
     },
     "execution_count": 8,
     "metadata": {},
     "output_type": "execute_result"
    }
   ],
   "source": [
    "# Definimos una función (power, elevar un número a cualquier exponente)\n",
    "pwr = lambda base,exponente: base**exponente\n",
    "\n",
    "# Probamos la función\n",
    "pwr(2, 5)"
   ]
  },
  {
   "cell_type": "markdown",
   "metadata": {},
   "source": [
    "## Data en Python"
   ]
  },
  {
   "cell_type": "code",
   "execution_count": 10,
   "metadata": {},
   "outputs": [],
   "source": [
    "# Importar pandas para manipular datos, usamos el alias 'pd' para escribir menos\n",
    "import pandas as pd "
   ]
  },
  {
   "cell_type": "code",
   "execution_count": 31,
   "metadata": {},
   "outputs": [
    {
     "data": {
      "text/html": [
       "<div>\n",
       "<style scoped>\n",
       "    .dataframe tbody tr th:only-of-type {\n",
       "        vertical-align: middle;\n",
       "    }\n",
       "\n",
       "    .dataframe tbody tr th {\n",
       "        vertical-align: top;\n",
       "    }\n",
       "\n",
       "    .dataframe thead th {\n",
       "        text-align: right;\n",
       "    }\n",
       "</style>\n",
       "<table border=\"1\" class=\"dataframe\">\n",
       "  <thead>\n",
       "    <tr style=\"text-align: right;\">\n",
       "      <th></th>\n",
       "      <th>mpg</th>\n",
       "      <th>cyl</th>\n",
       "      <th>disp</th>\n",
       "      <th>hp</th>\n",
       "      <th>drat</th>\n",
       "      <th>wt</th>\n",
       "      <th>qsec</th>\n",
       "      <th>vs</th>\n",
       "      <th>am</th>\n",
       "      <th>gear</th>\n",
       "      <th>carb</th>\n",
       "    </tr>\n",
       "  </thead>\n",
       "  <tbody>\n",
       "    <tr>\n",
       "      <th>Mazda RX4</th>\n",
       "      <td>21.0</td>\n",
       "      <td>6</td>\n",
       "      <td>160.0</td>\n",
       "      <td>110</td>\n",
       "      <td>3.90</td>\n",
       "      <td>2.620</td>\n",
       "      <td>16.46</td>\n",
       "      <td>0</td>\n",
       "      <td>1</td>\n",
       "      <td>4</td>\n",
       "      <td>4</td>\n",
       "    </tr>\n",
       "    <tr>\n",
       "      <th>Mazda RX4 Wag</th>\n",
       "      <td>21.0</td>\n",
       "      <td>6</td>\n",
       "      <td>160.0</td>\n",
       "      <td>110</td>\n",
       "      <td>3.90</td>\n",
       "      <td>2.875</td>\n",
       "      <td>17.02</td>\n",
       "      <td>0</td>\n",
       "      <td>1</td>\n",
       "      <td>4</td>\n",
       "      <td>4</td>\n",
       "    </tr>\n",
       "    <tr>\n",
       "      <th>Datsun 710</th>\n",
       "      <td>22.8</td>\n",
       "      <td>4</td>\n",
       "      <td>108.0</td>\n",
       "      <td>93</td>\n",
       "      <td>3.85</td>\n",
       "      <td>2.320</td>\n",
       "      <td>18.61</td>\n",
       "      <td>1</td>\n",
       "      <td>1</td>\n",
       "      <td>4</td>\n",
       "      <td>1</td>\n",
       "    </tr>\n",
       "    <tr>\n",
       "      <th>Hornet 4 Drive</th>\n",
       "      <td>21.4</td>\n",
       "      <td>6</td>\n",
       "      <td>258.0</td>\n",
       "      <td>110</td>\n",
       "      <td>3.08</td>\n",
       "      <td>3.215</td>\n",
       "      <td>19.44</td>\n",
       "      <td>1</td>\n",
       "      <td>0</td>\n",
       "      <td>3</td>\n",
       "      <td>1</td>\n",
       "    </tr>\n",
       "    <tr>\n",
       "      <th>Hornet Sportabout</th>\n",
       "      <td>18.7</td>\n",
       "      <td>8</td>\n",
       "      <td>360.0</td>\n",
       "      <td>175</td>\n",
       "      <td>3.15</td>\n",
       "      <td>3.440</td>\n",
       "      <td>17.02</td>\n",
       "      <td>0</td>\n",
       "      <td>0</td>\n",
       "      <td>3</td>\n",
       "      <td>2</td>\n",
       "    </tr>\n",
       "  </tbody>\n",
       "</table>\n",
       "</div>"
      ],
      "text/plain": [
       "                    mpg  cyl   disp   hp  drat     wt   qsec  vs  am  gear  \\\n",
       "Mazda RX4          21.0    6  160.0  110  3.90  2.620  16.46   0   1     4   \n",
       "Mazda RX4 Wag      21.0    6  160.0  110  3.90  2.875  17.02   0   1     4   \n",
       "Datsun 710         22.8    4  108.0   93  3.85  2.320  18.61   1   1     4   \n",
       "Hornet 4 Drive     21.4    6  258.0  110  3.08  3.215  19.44   1   0     3   \n",
       "Hornet Sportabout  18.7    8  360.0  175  3.15  3.440  17.02   0   0     3   \n",
       "\n",
       "                   carb  \n",
       "Mazda RX4             4  \n",
       "Mazda RX4 Wag         4  \n",
       "Datsun 710            1  \n",
       "Hornet 4 Drive        1  \n",
       "Hornet Sportabout     2  "
      ]
     },
     "execution_count": 31,
     "metadata": {},
     "output_type": "execute_result"
    }
   ],
   "source": [
    "# importar datos de un archivo CSV\n",
    "mtcars = pd.read_csv(\"mtcars.csv\", index_col=0)\n",
    "\n",
    "# mostrar los datos\n",
    "mtcars.head(5)"
   ]
  },
  {
   "cell_type": "markdown",
   "metadata": {},
   "source": [
    "## Gráficos básicos en Python"
   ]
  },
  {
   "cell_type": "code",
   "execution_count": 19,
   "metadata": {},
   "outputs": [],
   "source": [
    "# Importar librería para graficar, usamos el alias 'plt'\n",
    "import matplotlib.pyplot as plt"
   ]
  },
  {
   "cell_type": "code",
   "execution_count": 25,
   "metadata": {},
   "outputs": [
    {
     "data": {
      "text/plain": [
       "Text(0, 0.5, 'Velocidad')"
      ]
     },
     "execution_count": 25,
     "metadata": {},
     "output_type": "execute_result"
    },
    {
     "data": {
      "image/png": "[encoded data removed]",
      "text/plain": [
       "<Figure size 432x288 with 1 Axes>"
      ]
     },
     "metadata": {
      "needs_background": "light"
     },
     "output_type": "display_data"
    }
   ],
   "source": [
    "# importar datos\n",
    "cars = pd.read_csv(\"cars.csv\", index_col=0)\n",
    "\n",
    "# Diagrama de dispersión\n",
    "plt.scatter(cars.speed, cars.dist)\n",
    "\n",
    "# titulo\n",
    "plt.title(\"Velocidad vs Distancia\")\n",
    "\n",
    "# ejes\n",
    "plt.xlabel(\"Distancia\")\n",
    "plt.ylabel(\"Velocidad\")"
   ]
  },
  {
   "cell_type": "code",
   "execution_count": 27,
   "metadata": {},
   "outputs": [
    {
     "data": {
      "text/plain": [
       "Text(0, 0.5, 'Frecuencia')"
      ]
     },
     "execution_count": 27,
     "metadata": {},
     "output_type": "execute_result"
    },
    {
     "data": {
      "image/png": "[encoded data removed]",
      "text/plain": [
       "<Figure size 432x288 with 1 Axes>"
      ]
     },
     "metadata": {
      "needs_background": "light"
     },
     "output_type": "display_data"
    }
   ],
   "source": [
    "# Histograma\n",
    "plt.hist(cars.speed)\n",
    "\n",
    "# titulo\n",
    "plt.title(\"Distribución de velocidad\")\n",
    "\n",
    "# ejes\n",
    "plt.xlabel(\"Velocidad\")\n",
    "plt.ylabel(\"Frecuencia\")\n"
   ]
  },
  {
   "cell_type": "code",
   "execution_count": 30,
   "metadata": {},
   "outputs": [
    {
     "data": {
      "text/plain": [
       "Text(0, 0.5, 'Edad')"
      ]
     },
     "execution_count": 30,
     "metadata": {},
     "output_type": "execute_result"
    },
    {
     "data": {
      "image/png": "[encoded data removed]",
      "text/plain": [
       "<Figure size 432x288 with 1 Axes>"
      ]
     },
     "metadata": {
      "needs_background": "light"
     },
     "output_type": "display_data"
    }
   ],
   "source": [
    "# importar numpy para importar archivo .dat\n",
    "import numpy as np\n",
    "\n",
    "# series de tiempo\n",
    "kings = np.genfromtxt(\"http://robjhyndman.com/tsdldata/misc/kings.dat\",skip_header=3)\n",
    "\n",
    "# graficar serie de tiempo\n",
    "plt.plot(kings)\n",
    "\n",
    "# titulo\n",
    "plt.title(\"Edad de muerte de reyes de Inglaterra\")\n",
    "\n",
    "# ejes\n",
    "plt.xlabel(\"# de Rey\")\n",
    "plt.ylabel(\"Edad\")"
   ]
  },
  {
   "cell_type": "code",
   "execution_count": 41,
   "metadata": {},
   "outputs": [
    {
     "data": {
      "text/plain": [
       "Text(0, 0.5, 'Conteo')"
      ]
     },
     "execution_count": 41,
     "metadata": {},
     "output_type": "execute_result"
    },
    {
     "data": {
      "image/png": "[encoded data removed]",
      "text/plain": [
       "<Figure size 432x288 with 1 Axes>"
      ]
     },
     "metadata": {
      "needs_background": "light"
     },
     "output_type": "display_data"
    }
   ],
   "source": [
    "# diagramas de barra\n",
    "plt.bar(mtcars.cyl.value_counts().index.astype(str), height=mtcars.cyl.value_counts().values)\n",
    "\n",
    "# titulo\n",
    "plt.title(\"Distribución de coches\")\n",
    "\n",
    "# ejes\n",
    "plt.xlabel(\"Número de cilindros\")\n",
    "plt.ylabel(\"Conteo\")"
   ]
  }
 ],
 "metadata": {
  "interpreter": {
   "hash": "6aeb86587c5ad23fc931a322f3b96c3b41ef40d8c8f1600e1685da64dd06c967"
  },
  "kernelspec": {
   "display_name": "R",
   "language": "python",
   "name": "python3"
  },
  "language_info": {
   "codemirror_mode": {
    "name": "ipython",
    "version": 3
   },
   "file_extension": ".py",
   "mimetype": "text/x-python",
   "name": "python",
   "nbconvert_exporter": "python",
   "pygments_lexer": "ipython3",
   "version": "3.8.8"
  },
  "orig_nbformat": 4
 },
 "nbformat": 4,
 "nbformat_minor": 2
}
